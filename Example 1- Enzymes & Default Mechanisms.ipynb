{
 "cells": [
  {
   "cell_type": "code",
   "execution_count": 1,
   "metadata": {},
   "outputs": [
    {
     "name": "stdout",
     "output_type": "stream",
     "text": [
      "repr(Mixture) gives a printout of what is in a mixture and what it's Mechanisms are:\n",
      " Mixture: Catalysis Mixture\n",
      "Components = [\n",
      "\tEnzyme: E ]\n",
      "Mechanisms = {\n",
      "\tcatalysis:basic_catalysis } \n",
      "\n",
      "String representation of a CRN shows the string names of all species:\n",
      " Species = protein_E, S, P\n",
      "Reactions = [\n",
      "\tprotein[E]+S --> protein[E]+P\n",
      "] \n",
      "\n",
      "\n",
      "Pretty_print representation of a CRN has formatting options and is easier to read:\n",
      " Species(N = 3) = {\n",
      "S (@ 0),  P (@ 0),  protein[E] (@ 0),  \n",
      "}\n",
      "\n",
      "Reactions (1) = [\n",
      "0. protein[E]+S --> protein[E]+P\n",
      " Kf=k_forward * protein_E * S\n",
      "  k_forward=1.0\n",
      "\n",
      "]\n"
     ]
    },
    {
     "data": {
      "text/plain": [
       "True"
      ]
     },
     "execution_count": 1,
     "metadata": {},
     "output_type": "execute_result"
    }
   ],
   "source": [
    "from biocrnpyler import *\n",
    "\n",
    "#We will use default parameter names\n",
    "default_parameters = {\"kb\":100, \"ku\":10, \"kcat\":1.0}\n",
    "\n",
    "#Mixture 1 (M1) will contain an Enzyme E1\n",
    "E = Enzyme(\"E\", substrates = \"S\", products = \"P\")\n",
    "\n",
    "#Choose a catalysis mechanism by commenting out one of them.\n",
    "mech_cat = BasicCatalysis() # leaving this uncommented will result in E + S --> E + P \n",
    "#mech_cat = MichaelisMenten() # these are predefined mechanisms! # leaving this uncommented will result in S+protein[E] <--> complex[S:protein[E]]\n",
    "\t                                                                                                                       #complex[S:protein[E]] --> P+protein[E]\n",
    "\n",
    "#place that mechanism in a dictionary: \"catalysis\":mech_cat\n",
    "default_mechanisms = {mech_cat.mechanism_type:mech_cat}\n",
    "\n",
    "#Create a mixture.\n",
    "#Components is a list of Components in the mixture\n",
    "#parameters is a dictionary of parameters. Can also accept parameter_file.\n",
    "#default_mechanisms = dict sets the default_mechanisms in the Mixture\n",
    "M = Mixture(\"Catalysis Mixture\", components = [E], parameters = default_parameters, mechanisms = default_mechanisms)\n",
    "print(\"repr(Mixture) gives a printout of what is in a mixture and what it's Mechanisms are:\\n\", repr(M),\"\\n\")\n",
    "\n",
    "#Compile the CRN with Mixture.compile_crn\n",
    "# you must compile the CRN using \"mixture\".compile_crn when making custom mixtures. \n",
    "CRN = M.compile_crn()\n",
    "\n",
    "#CRNs can be printed in two ways\n",
    "print(\"String representation of a CRN shows the string names of all species:\\n\",CRN, \"\\n\\n\")\n",
    "print(\"Pretty_print representation of a CRN has formatting options and is easier to read:\\n\",\n",
    "      CRN.pretty_print(show_rates = True, show_attributes = True, show_materials = True, show_keys = False))\n",
    "\n",
    "CRN.write_sbml_file(\"example1.xml\")\n",
    "\n",
    "from autoreduce import * \n",
    "from autoreduce.converters import load_sbml \n",
    "\n",
    "sys = load_sbml('example2.xml', outputs = ['P'])"
   ]
  }
 ],
 "metadata": {
  "kernelspec": {
   "display_name": "Summer2025",
   "language": "python",
   "name": "python3"
  },
  "language_info": {
   "codemirror_mode": {
    "name": "ipython",
    "version": 3
   },
   "file_extension": ".py",
   "mimetype": "text/x-python",
   "name": "python",
   "nbconvert_exporter": "python",
   "pygments_lexer": "ipython3",
   "version": "3.11.11"
  }
 },
 "nbformat": 4,
 "nbformat_minor": 2
}
