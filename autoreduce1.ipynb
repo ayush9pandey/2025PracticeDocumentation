{
 "cells": [
  {
   "cell_type": "code",
   "execution_count": 42,
   "metadata": {},
   "outputs": [
    {
     "ename": "TypeError",
     "evalue": "unsupported operand type(s) for *: 'Mul' and 'SingletonRegistry'",
     "output_type": "error",
     "traceback": [
      "\u001b[31m---------------------------------------------------------------------------\u001b[39m",
      "\u001b[31mValueError\u001b[39m                                Traceback (most recent call last)",
      "\u001b[31mValueError\u001b[39m: Error from parse_expr with transformed code: \"Symbol ('kcat__' )*Symbol ('protein_E' )*S \"",
      "\nThe above exception was the direct cause of the following exception:\n",
      "\u001b[31mTypeError\u001b[39m                                 Traceback (most recent call last)",
      "\u001b[36mCell\u001b[39m\u001b[36m \u001b[39m\u001b[32mIn[42]\u001b[39m\u001b[32m, line 5\u001b[39m\n\u001b[32m      1\u001b[39m \u001b[38;5;28;01mfrom\u001b[39;00m\u001b[38;5;250m \u001b[39m\u001b[34;01mautoreduce\u001b[39;00m\u001b[38;5;250m \u001b[39m\u001b[38;5;28;01mimport\u001b[39;00m *\n\u001b[32m      4\u001b[39m \u001b[38;5;28;01mfrom\u001b[39;00m\u001b[38;5;250m \u001b[39m\u001b[34;01mautoreduce\u001b[39;00m\u001b[34;01m.\u001b[39;00m\u001b[34;01mconverters\u001b[39;00m\u001b[38;5;250m \u001b[39m\u001b[38;5;28;01mimport\u001b[39;00m load_sbml\n\u001b[32m----> \u001b[39m\u001b[32m5\u001b[39m sys = \u001b[43mload_sbml\u001b[49m\u001b[43m(\u001b[49m\u001b[33;43m'\u001b[39;49m\u001b[33;43mexample1.xml\u001b[39;49m\u001b[33;43m'\u001b[39;49m\u001b[43m,\u001b[49m\u001b[43m \u001b[49m\u001b[43moutputs\u001b[49m\u001b[43m \u001b[49m\u001b[43m=\u001b[49m\u001b[43m \u001b[49m\u001b[43m[\u001b[49m\u001b[33;43m'\u001b[39;49m\u001b[33;43mprotein_X\u001b[39;49m\u001b[33;43m'\u001b[39;49m\u001b[43m]\u001b[49m\u001b[43m)\u001b[49m\n\u001b[32m      6\u001b[39m \u001b[38;5;28;01mfor\u001b[39;00m x, x_ic \u001b[38;5;129;01min\u001b[39;00m x0_dict.items():\n\u001b[32m      7\u001b[39m     curr_ind = sys.x.index(Symbol(x))\n",
      "\u001b[36mFile \u001b[39m\u001b[32m/opt/anaconda3/envs/Summer2025/lib/python3.11/site-packages/autoreduce/converters.py:119\u001b[39m, in \u001b[36mload_sbml\u001b[39m\u001b[34m(filename, **kwargs)\u001b[39m\n\u001b[32m    117\u001b[39m     reaction = mod.getReaction(i)\n\u001b[32m    118\u001b[39m     kinetics = reaction.getKineticLaw()\n\u001b[32m--> \u001b[39m\u001b[32m119\u001b[39m     reactions[reaction.getId()] = \u001b[43msympify\u001b[49m\u001b[43m(\u001b[49m\u001b[43mkinetics\u001b[49m\u001b[43m.\u001b[49m\u001b[43mgetFormula\u001b[49m\u001b[43m(\u001b[49m\u001b[43m)\u001b[49m\u001b[43m)\u001b[49m\n\u001b[32m    120\u001b[39m \u001b[38;5;66;03m# Define f\u001b[39;00m\n\u001b[32m    121\u001b[39m f = [sympify(\u001b[32m0\u001b[39m)] * \u001b[38;5;28mlen\u001b[39m(x)\n",
      "\u001b[36mFile \u001b[39m\u001b[32m/opt/anaconda3/envs/Summer2025/lib/python3.11/site-packages/sympy/core/sympify.py:507\u001b[39m, in \u001b[36msympify\u001b[39m\u001b[34m(a, locals, convert_xor, strict, rational, evaluate)\u001b[39m\n\u001b[32m    505\u001b[39m \u001b[38;5;28;01mtry\u001b[39;00m:\n\u001b[32m    506\u001b[39m     a = a.replace(\u001b[33m'\u001b[39m\u001b[38;5;130;01m\\n\u001b[39;00m\u001b[33m'\u001b[39m, \u001b[33m'\u001b[39m\u001b[33m'\u001b[39m)\n\u001b[32m--> \u001b[39m\u001b[32m507\u001b[39m     expr = \u001b[43mparse_expr\u001b[49m\u001b[43m(\u001b[49m\u001b[43ma\u001b[49m\u001b[43m,\u001b[49m\u001b[43m \u001b[49m\u001b[43mlocal_dict\u001b[49m\u001b[43m=\u001b[49m\u001b[38;5;28;43mlocals\u001b[39;49m\u001b[43m,\u001b[49m\u001b[43m \u001b[49m\u001b[43mtransformations\u001b[49m\u001b[43m=\u001b[49m\u001b[43mtransformations\u001b[49m\u001b[43m,\u001b[49m\u001b[43m \u001b[49m\u001b[43mevaluate\u001b[49m\u001b[43m=\u001b[49m\u001b[43mevaluate\u001b[49m\u001b[43m)\u001b[49m\n\u001b[32m    508\u001b[39m \u001b[38;5;28;01mexcept\u001b[39;00m (TokenError, \u001b[38;5;167;01mSyntaxError\u001b[39;00m) \u001b[38;5;28;01mas\u001b[39;00m exc:\n\u001b[32m    509\u001b[39m     \u001b[38;5;28;01mraise\u001b[39;00m SympifyError(\u001b[33m'\u001b[39m\u001b[33mcould not parse \u001b[39m\u001b[38;5;132;01m%r\u001b[39;00m\u001b[33m'\u001b[39m % a, exc)\n",
      "\u001b[36mFile \u001b[39m\u001b[32m/opt/anaconda3/envs/Summer2025/lib/python3.11/site-packages/sympy/parsing/sympy_parser.py:1090\u001b[39m, in \u001b[36mparse_expr\u001b[39m\u001b[34m(s, local_dict, transformations, global_dict, evaluate)\u001b[39m\n\u001b[32m   1088\u001b[39m \u001b[38;5;28;01mfor\u001b[39;00m i \u001b[38;5;129;01min\u001b[39;00m local_dict.pop(null, ()):\n\u001b[32m   1089\u001b[39m     local_dict[i] = null\n\u001b[32m-> \u001b[39m\u001b[32m1090\u001b[39m \u001b[38;5;28;01mraise\u001b[39;00m e \u001b[38;5;28;01mfrom\u001b[39;00m\u001b[38;5;250m \u001b[39m\u001b[34;01mValueError\u001b[39;00m(\u001b[33mf\u001b[39m\u001b[33m\"\u001b[39m\u001b[33mError from parse_expr with transformed code: \u001b[39m\u001b[38;5;132;01m{\u001b[39;00mcode\u001b[38;5;132;01m!r}\u001b[39;00m\u001b[33m\"\u001b[39m)\n",
      "\u001b[36mFile \u001b[39m\u001b[32m/opt/anaconda3/envs/Summer2025/lib/python3.11/site-packages/sympy/parsing/sympy_parser.py:1081\u001b[39m, in \u001b[36mparse_expr\u001b[39m\u001b[34m(s, local_dict, transformations, global_dict, evaluate)\u001b[39m\n\u001b[32m   1078\u001b[39m     code = \u001b[38;5;28mcompile\u001b[39m(evaluateFalse(code), \u001b[33m'\u001b[39m\u001b[33m<string>\u001b[39m\u001b[33m'\u001b[39m, \u001b[33m'\u001b[39m\u001b[33meval\u001b[39m\u001b[33m'\u001b[39m) \u001b[38;5;66;03m# type: ignore\u001b[39;00m\n\u001b[32m   1080\u001b[39m \u001b[38;5;28;01mtry\u001b[39;00m:\n\u001b[32m-> \u001b[39m\u001b[32m1081\u001b[39m     rv = \u001b[43meval_expr\u001b[49m\u001b[43m(\u001b[49m\u001b[43mcode\u001b[49m\u001b[43m,\u001b[49m\u001b[43m \u001b[49m\u001b[43mlocal_dict\u001b[49m\u001b[43m,\u001b[49m\u001b[43m \u001b[49m\u001b[43mglobal_dict\u001b[49m\u001b[43m)\u001b[49m\n\u001b[32m   1082\u001b[39m     \u001b[38;5;66;03m# restore neutral definitions for names\u001b[39;00m\n\u001b[32m   1083\u001b[39m     \u001b[38;5;28;01mfor\u001b[39;00m i \u001b[38;5;129;01min\u001b[39;00m local_dict.pop(null, ()):\n",
      "\u001b[36mFile \u001b[39m\u001b[32m/opt/anaconda3/envs/Summer2025/lib/python3.11/site-packages/sympy/parsing/sympy_parser.py:905\u001b[39m, in \u001b[36meval_expr\u001b[39m\u001b[34m(code, local_dict, global_dict)\u001b[39m\n\u001b[32m    899\u001b[39m \u001b[38;5;28;01mdef\u001b[39;00m\u001b[38;5;250m \u001b[39m\u001b[34meval_expr\u001b[39m(code, local_dict: DICT, global_dict: DICT):\n\u001b[32m    900\u001b[39m \u001b[38;5;250m    \u001b[39m\u001b[33;03m\"\"\"\u001b[39;00m\n\u001b[32m    901\u001b[39m \u001b[33;03m    Evaluate Python code generated by ``stringify_expr``.\u001b[39;00m\n\u001b[32m    902\u001b[39m \n\u001b[32m    903\u001b[39m \u001b[33;03m    Generally, ``parse_expr`` should be used.\u001b[39;00m\n\u001b[32m    904\u001b[39m \u001b[33;03m    \"\"\"\u001b[39;00m\n\u001b[32m--> \u001b[39m\u001b[32m905\u001b[39m     expr = \u001b[38;5;28meval\u001b[39m(\n\u001b[32m    906\u001b[39m         code, global_dict, local_dict)  \u001b[38;5;66;03m# take local objects in preference\u001b[39;00m\n\u001b[32m    907\u001b[39m     \u001b[38;5;28;01mreturn\u001b[39;00m expr\n",
      "\u001b[36mFile \u001b[39m\u001b[32m<string>:1\u001b[39m\n",
      "\u001b[31mTypeError\u001b[39m: unsupported operand type(s) for *: 'Mul' and 'SingletonRegistry'"
     ]
    }
   ],
   "source": [
    "\n",
    "\n",
    "from autoreduce import *\n",
    "\n",
    "\n",
    "from autoreduce.converters import load_sbml\n",
    "sys = load_sbml('example1.xml', outputs = ['protein_E'])\n",
    "for x, x_ic in x0_dict.items():\n",
    "    curr_ind = sys.x.index(Symbol(x))\n",
    "    sys.x_init[curr_ind] = x_ic\n",
    "\n",
    "sys.x\n",
    "\n"
   ]
  }
 ],
 "metadata": {
  "kernelspec": {
   "display_name": "Summer2025",
   "language": "python",
   "name": "python3"
  },
  "language_info": {
   "codemirror_mode": {
    "name": "ipython",
    "version": 3
   },
   "file_extension": ".py",
   "mimetype": "text/x-python",
   "name": "python",
   "nbconvert_exporter": "python",
   "pygments_lexer": "ipython3",
   "version": "3.11.11"
  }
 },
 "nbformat": 4,
 "nbformat_minor": 2
}
